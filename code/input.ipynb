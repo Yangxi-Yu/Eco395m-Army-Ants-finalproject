{
 "cells": [
  {
   "cell_type": "code",
   "execution_count": null,
   "id": "cff44e8f-e177-4dad-a2bc-48bb02b1df5d",
   "metadata": {},
   "outputs": [],
   "source": [
    "from model import resume_job_matching\n",
    "from model import consine_matrix_to_sql\n",
    "\n",
    "df = resume_job_matching()\n",
    "consine_matrix_to_sql(df)"
   ]
  }
 ],
 "metadata": {
  "environment": {
   "kernel": "python3",
   "name": "common-cpu.m91",
   "type": "gcloud",
   "uri": "gcr.io/deeplearning-platform-release/base-cpu:m91"
  },
  "kernelspec": {
   "display_name": "Python 3",
   "language": "python",
   "name": "python3"
  },
  "language_info": {
   "codemirror_mode": {
    "name": "ipython",
    "version": 3
   },
   "file_extension": ".py",
   "mimetype": "text/x-python",
   "name": "python",
   "nbconvert_exporter": "python",
   "pygments_lexer": "ipython3",
   "version": "3.7.12"
  }
 },
 "nbformat": 4,
 "nbformat_minor": 5
}
