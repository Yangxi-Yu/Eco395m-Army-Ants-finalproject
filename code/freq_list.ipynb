{
 "cells": [
  {
   "cell_type": "code",
   "execution_count": 1,
   "id": "9375b86d-6f19-41fb-a4ab-3a46a65ce26d",
   "metadata": {},
   "outputs": [],
   "source": [
    "from database import engine\n",
    "import pandas as pd\n",
    "import pandas as pd\n",
    "from bs4 import BeautifulSoup\n",
    "import nltk\n",
    "from nltk.tokenize import word_tokenize\n",
    "import re\n",
    "import numpy as np\n",
    "from numpy.linalg import norm"
   ]
  },
  {
   "cell_type": "code",
   "execution_count": 4,
   "id": "93a951b6-fd16-44be-a8c3-7f57c67e2908",
   "metadata": {},
   "outputs": [],
   "source": [
    "\n",
    "def collect_key_words_dict(df_test_merge, data_source_column):\n",
    "    \"\"\"build key words list. \"\"\"\n",
    "    len_train = len(df_test_merge)\n",
    "    two_words_dict = {}\n",
    "    for row in range(0, len_train):\n",
    "        word_text = df_test_merge['clean_description_n_v_j_only'][row]\n",
    "        if pd.isna(word_text) == False:\n",
    "            word_list = word_text.split()\n",
    "            word_text_len = len(word_list)\n",
    "            for n in range(0, word_text_len-1):\n",
    "                dict_key = word_list[n] + \" \" + word_list[n+1]\n",
    "                if dict_key in two_words_dict:\n",
    "                    two_words_dict[dict_key] = two_words_dict[dict_key] + 1\n",
    "                else:\n",
    "                    two_words_dict[dict_key] = 1\n",
    "    return two_words_dict"
   ]
  },
  {
   "cell_type": "code",
   "execution_count": 5,
   "id": "df7187e3-bf99-4f23-8c60-2935098d5787",
   "metadata": {},
   "outputs": [],
   "source": [
    "\n",
    "def select_top_25_to_key_words_list(two_words_dict):\n",
    "    \"\"\"Convert dict to dataframe\"\"\"\n",
    "    df_all_word = pd.DataFrame(two_words_dict.items())\n",
    "    key_word_list = df_all_word.sort_values(1, ascending=False)[0][0:25].values.tolist()\n",
    "    return key_word_list"
   ]
  },
  {
   "cell_type": "code",
   "execution_count": 8,
   "id": "d1e0dca5-b97d-420d-adf0-f6732a38cfcc",
   "metadata": {},
   "outputs": [
    {
     "data": {
      "text/plain": [
       "['bachelors degree',\n",
       " 'years experience',\n",
       " 'communication skills',\n",
       " 'business analyst',\n",
       " 'equal opportunity',\n",
       " 'sexual orientation',\n",
       " 'national origin',\n",
       " 'skills ability',\n",
       " 'opportunity employer',\n",
       " 'data analysis',\n",
       " 'gender identity',\n",
       " 'data analyst',\n",
       " 'ability work',\n",
       " 'veteran status',\n",
       " 'race color',\n",
       " 'business intelligence',\n",
       " 'be able',\n",
       " 'experience working',\n",
       " 'is equal',\n",
       " 'project management',\n",
       " 'data analytics',\n",
       " 'team members',\n",
       " 'business requirements',\n",
       " 'related field',\n",
       " 'work experience']"
      ]
     },
     "execution_count": 8,
     "metadata": {},
     "output_type": "execute_result"
    }
   ],
   "source": [
    "df_test_merge = pd.read_sql_table(\"merge_job_cleaned_description\", engine)\n",
    "two_words_dict = collect_key_words_dict(df_test_merge, 'clean_description_n_v_j_only')\n",
    "key_word_list = select_top_25_to_key_words_list(two_words_dict)\n",
    "key_word_list"
   ]
  },
  {
   "cell_type": "code",
   "execution_count": null,
   "id": "15e9d4dd-c097-40df-aa78-eda83beba76e",
   "metadata": {},
   "outputs": [],
   "source": []
  }
 ],
 "metadata": {
  "kernelspec": {
   "display_name": "Python 3 (ipykernel)",
   "language": "python",
   "name": "python3"
  },
  "language_info": {
   "codemirror_mode": {
    "name": "ipython",
    "version": 3
   },
   "file_extension": ".py",
   "mimetype": "text/x-python",
   "name": "python",
   "nbconvert_exporter": "python",
   "pygments_lexer": "ipython3",
   "version": "3.9.7"
  }
 },
 "nbformat": 4,
 "nbformat_minor": 5
}
